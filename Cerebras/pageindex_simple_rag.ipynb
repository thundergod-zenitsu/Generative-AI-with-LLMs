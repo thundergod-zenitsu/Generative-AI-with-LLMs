{
 "cells": [
  {
   "cell_type": "markdown",
   "id": "64fdc8df",
   "metadata": {},
   "source": [
    "### Step-0: Installing the required libraries"
   ]
  },
  {
   "cell_type": "code",
   "execution_count": 36,
   "id": "dc36b67e",
   "metadata": {},
   "outputs": [],
   "source": [
    "# !pip install pageindex\n",
    "# !pip install dotenv\n",
    "# !pip install cerebras-cloud-sdk"
   ]
  },
  {
   "cell_type": "code",
   "execution_count": 37,
   "id": "59d57bb1",
   "metadata": {},
   "outputs": [],
   "source": [
    "import os\n",
    "from dotenv import load_dotenv\n",
    "\n",
    "load_dotenv()\n",
    "pageindex_api_key = os.getenv(\"PAGEINDEX_API_KEY\")\n",
    "cerebras_api_key = os.getenv(\"CEREBRAS_API_KEY\")"
   ]
  },
  {
   "cell_type": "code",
   "execution_count": 39,
   "id": "8cc88751",
   "metadata": {},
   "outputs": [],
   "source": [
    "from cerebras.cloud.sdk import AsyncCerebras\n",
    "\n",
    "async def call_llm(prompt, model=\"qwen-3-235b-a22b-instruct-2507\", temparature=0):\n",
    "    client = AsyncCerebras(api_key=cerebras_api_key)\n",
    "    response = await client.chat.completions.create(\n",
    "        model=model,\n",
    "        messages=[{\"role\": \"user\", \"content\": prompt}],\n",
    "        temperature=temparature\n",
    "    )\n",
    "    return response.choices[0].message.content.strip()"
   ]
  },
  {
   "cell_type": "markdown",
   "id": "02771997",
   "metadata": {},
   "source": [
    "### Step-1: PageIndex Tree Generation"
   ]
  },
  {
   "cell_type": "code",
   "execution_count": 3,
   "id": "f86e1500",
   "metadata": {},
   "outputs": [],
   "source": [
    "from pageindex import PageIndexClient\n",
    " \n",
    "pi_client = PageIndexClient(api_key=pageindex_api_key)"
   ]
  },
  {
   "cell_type": "code",
   "execution_count": 9,
   "id": "6f9d7f54",
   "metadata": {},
   "outputs": [
    {
     "name": "stdout",
     "output_type": "stream",
     "text": [
      "Document Submitted: pi-cmgb1z9gt00iq09oambspf9a0\n"
     ]
    }
   ],
   "source": [
    "import os, requests\n",
    "\n",
    "pdf_path = os.path.join(\"./data\", \"fia_f1_power_unit_financial_regulations_issue_1_-_2022-08-16.pdf\")\n",
    "os.makedirs(os.path.dirname(pdf_path), exist_ok=True)\n",
    "\n",
    "doc_id = pi_client.submit_document(pdf_path)[\"doc_id\"]\n",
    "print('Document Submitted:', doc_id)"
   ]
  },
  {
   "cell_type": "code",
   "execution_count": 12,
   "id": "946f463a",
   "metadata": {},
   "outputs": [
    {
     "name": "stdout",
     "output_type": "stream",
     "text": [
      "Simplified Tree Structure of the Document:\n",
      "[{'title': 'FORMULA 1 POWER UNIT FINANCIAL REGULATIO...',\n",
      "  'node_id': '0000',\n",
      "  'prefix_summary': 'This partial document outlines the struc...',\n",
      "  'nodes': [{'title': 'Scope',\n",
      "             'node_id': '0001',\n",
      "             'summary': '## Scope\\n\\n1.1 These Power Unit Financial...'},\n",
      "            {'title': 'Objectives',\n",
      "             'node_id': '0002',\n",
      "             'summary': 'This partial document outlines the objec...'},\n",
      "            {'title': 'Accountability',\n",
      "             'node_id': '0003',\n",
      "             'summary': '## Accountability\\n\\n1.8 Each Power Unit M...'},\n",
      "            {'title': '2. POWER UNIT MANUFACTURER OBLIGATIONS',\n",
      "             'node_id': '0004',\n",
      "             'summary': 'This partial document outlines the oblig...'},\n",
      "            {'title': 'Cap on Relevant Costs',\n",
      "             'node_id': '0005',\n",
      "             'summary': '## Cap on Relevant Costs\\n\\n2.2 A Power Un...'},\n",
      "            {'title': 'The Power Unit Cost Cap',\n",
      "             'node_id': '0006',\n",
      "             'summary': 'This partial document outlines the \"Powe...'},\n",
      "            {'title': 'Reporting Group',\n",
      "             'node_id': '0007',\n",
      "             'summary': 'This partial document outlines the rules...'},\n",
      "            {'title': '3. EXCLUSIONS',\n",
      "             'node_id': '0008',\n",
      "             'summary': 'This partial document outlines the speci...'},\n",
      "            {'title': '4. ADJUSTMENTS',\n",
      "             'node_id': '0009',\n",
      "             'summary': 'This partial document outlines the rules...'},\n",
      "            {'title': '5. REPORTING REQUIREMENTS',\n",
      "             'node_id': '0010',\n",
      "             'summary': '## 5. REPORTING REQUIREMENTS\\n\\nFull Year ...'},\n",
      "            {'title': 'Interim Reporting Documentation',\n",
      "             'node_id': '0011',\n",
      "             'summary': '## Interim Reporting Documentation\\n\\n5.2 ...'},\n",
      "            {'title': \"Approval of a Power Unit Manufacturer's ...\",\n",
      "             'node_id': '0012',\n",
      "             'summary': 'The partial document outlines the proced...'},\n",
      "            {'title': '6. COST CAP ADMINISTRATION',\n",
      "             'node_id': '0013',\n",
      "             'summary': 'This partial document outlines the respo...'},\n",
      "            {'title': 'Clarification of the Power Unit Financia...',\n",
      "             'node_id': '0014',\n",
      "             'summary': '## Clarification of the Power Unit Finan...'},\n",
      "            {'title': 'Review of Reporting Documentation',\n",
      "             'node_id': '0015',\n",
      "             'summary': 'The partial document outlines the proced...'},\n",
      "            {'title': 'Regulatory function',\n",
      "             'node_id': '0016',\n",
      "             'summary': 'This partial document outlines the regul...'},\n",
      "            {'title': 'Investigations',\n",
      "             'node_id': '0017',\n",
      "             'summary': 'This partial document outlines the proce...'},\n",
      "            {'title': 'Complaints procedure',\n",
      "             'node_id': '0018',\n",
      "             'summary': 'This partial document outlines the compl...'},\n",
      "            {'title': 'Accepted Breach Agreement',\n",
      "             'node_id': '0019',\n",
      "             'summary': 'This partial document outlines the proce...'},\n",
      "            {'title': '7. COST CAP ADJUDICATION PANEL',\n",
      "             'node_id': '0020',\n",
      "             'summary': 'This partial document outlines the struc...'},\n",
      "            {'title': 'Hearings before the Cost Cap Adjudicatio...',\n",
      "             'node_id': '0021',\n",
      "             'summary': 'This partial document outlines the proce...'},\n",
      "            {'title': 'Decision',\n",
      "             'node_id': '0022',\n",
      "             'summary': 'This partial document outlines the proce...'},\n",
      "            {'title': 'Appeals',\n",
      "             'node_id': '0023',\n",
      "             'summary': '## Appeals\\n\\n7.29 The ICA is the independ...'},\n",
      "            {'title': '8. CATEGORIES OF BREACH',\n",
      "             'node_id': '0024',\n",
      "             'summary': '## 8. CATEGORIES OF BREACH\\n'},\n",
      "            {'title': 'Procedural Breach',\n",
      "             'node_id': '0025',\n",
      "             'summary': 'This partial document outlines the defin...'},\n",
      "            {'title': 'Late and Non-Submission of Full Year Rep...',\n",
      "             'node_id': '0026',\n",
      "             'summary': 'This partial document outlines the proce...'},\n",
      "            {'title': 'Minor Overspend Breach',\n",
      "             'node_id': '0027',\n",
      "             'summary': '## Minor Overspend Breach\\n\\n8.10 A \"Minor...'},\n",
      "            {'title': 'Material Overspend Breach',\n",
      "             'node_id': '0028',\n",
      "             'summary': 'This partial document outlines the defin...'},\n",
      "            {'title': 'Aggravating or mitigating factors',\n",
      "             'node_id': '0029',\n",
      "             'summary': 'This partial document outlines the proce...'},\n",
      "            {'title': '9. SANCTIONS FOR BREACH',\n",
      "             'node_id': '0030',\n",
      "             'summary': '## 9. SANCTIONS FOR BREACH\\n'},\n",
      "            {'title': 'Sanctions',\n",
      "             'node_id': '0031',\n",
      "             'summary': 'The partial document outlines the sancti...'},\n",
      "            {'title': 'Enhanced monitoring and suspended sancti...',\n",
      "             'node_id': '0032',\n",
      "             'summary': '## Enhanced monitoring and suspended san...'},\n",
      "            {'title': 'Payment of a Financial Penalty',\n",
      "             'node_id': '0033',\n",
      "             'summary': 'This partial document outlines the proce...'},\n",
      "            {'title': 'Individual responsibility',\n",
      "             'node_id': '0034',\n",
      "             'summary': '## Individual responsibility\\n\\n9.8 In the...'},\n",
      "            {'title': 'APPENDIX 1', 'node_id': '0035', 'summary': '## APPENDIX 1\\n'},\n",
      "            {'title': 'DEFINITIONS AND INTERPRETATION',\n",
      "             'node_id': '0036',\n",
      "             'summary': 'This partial document is from the \"DEFIN...'},\n",
      "            {'title': '\"Capital Expenditure Amount\" means:',\n",
      "             'node_id': '0037',\n",
      "             'summary': 'This partial document is a comprehensive...'},\n",
      "            {'title': 'APPENDIX 2', 'node_id': '0038', 'summary': '## APPENDIX 2\\n'},\n",
      "            {'title': 'ELIGIBLE TEST BENCHES',\n",
      "             'node_id': '0039',\n",
      "             'summary': 'This partial document details the defini...'}]}]\n"
     ]
    }
   ],
   "source": [
    "import pageindex.utils as utils\n",
    "if pi_client.is_retrieval_ready(doc_id):\n",
    "    tree = pi_client.get_tree(doc_id, node_summary=True)['result']\n",
    "    print('Simplified Tree Structure of the Document:')\n",
    "    utils.print_tree(tree)\n",
    "else:\n",
    "    print(\"Processing document, please try again later...\")"
   ]
  },
  {
   "cell_type": "code",
   "execution_count": 15,
   "id": "51014d70",
   "metadata": {},
   "outputs": [
    {
     "data": {
      "text/plain": [
       "dict_keys(['title', 'node_id', 'page_index', 'prefix_summary', 'text', 'nodes'])"
      ]
     },
     "execution_count": 15,
     "metadata": {},
     "output_type": "execute_result"
    }
   ],
   "source": [
    "tree[0].keys()"
   ]
  },
  {
   "cell_type": "code",
   "execution_count": 16,
   "id": "f6385905",
   "metadata": {},
   "outputs": [
    {
     "data": {
      "text/plain": [
       "1"
      ]
     },
     "execution_count": 16,
     "metadata": {},
     "output_type": "execute_result"
    }
   ],
   "source": [
    "len(tree)"
   ]
  },
  {
   "cell_type": "code",
   "execution_count": 20,
   "id": "1e27c382",
   "metadata": {},
   "outputs": [
    {
     "data": {
      "text/plain": [
       "39"
      ]
     },
     "execution_count": 20,
     "metadata": {},
     "output_type": "execute_result"
    }
   ],
   "source": [
    "len(tree[0]['nodes'])"
   ]
  },
  {
   "cell_type": "code",
   "execution_count": 31,
   "id": "4548a8dd",
   "metadata": {},
   "outputs": [
    {
     "name": "stdout",
     "output_type": "stream",
     "text": [
      "Reporting Group\n",
      "------\n",
      "## Reporting Group\n",
      "\n",
      "2.5 For the purposes of reporting Total Costs of the Reporting Group, a Power Unit Manufacturer's Reporting Group shall comprise the Power Unit Manufacturer together with, where the Power Unit Manufacturer has incurred less than $95 \\%$ of the costs of the Power Unit Activities undertaken by or on behalf of the Power Unit Manufacturer in the Reporting Period, such additional entities within the Power Unit Manufacturer's Legal Group Structure as are determined in accordance with Article 2.6.\n",
      "2.6 The additional entities to be included within the Reporting Group where a Power Unit Manufacturer has incurred less than $95 \\%$ of the costs of the Power Unit Activities undertaken by or on behalf of that Power Unit Manufacturer in the Reporting Period shall be the entity (other than the Power Unit Manufacturer) within the Power Unit Manufacturer's Legal Group Structure that incurred the greatest amount of costs of the Power Unit Activities undertaken by or on behalf of the Power Unit Manufacturer in the Reporting Period, followed (to the extent required) by the entity within the Power Unit Manufacturer's Legal Group Structure that incurred the next greatest amount of such costs, and so on, until the entities included within the Reporting Group have incurred, in aggregate, $95 \\%$ or more of the costs of the Power Unit Activities undertaken by or on behalf of the Power Unit Manufacturer in the Reporting Period.\n",
      "2.7 In addition to those entities included in the Reporting Group pursuant to Articles 2.5 and 2.6, a Power Unit Manufacturer may elect to include additional entities in its Reporting Group\n",
      "\n",
      "from within its Legal Group Structure which have incurred costs of Power Unit Activities undertaken on behalf of the Power Unit Manufacturer in the Reporting Period.\n",
      "2.8 For the purposes of Articles 2.5 to 2.7 (inclusive), the calculation of the costs of Power Unit Activities undertaken by or on behalf of the Power Unit Manufacturer in the Reporting Period:\n",
      "(a) shall not include Finance Costs and costs Directly Attributable to Marketing Activities;\n",
      "(b) shall be made having adjusted out any amounts in connection with Power Unit Activities recharged from one member of the Power Unit Manufacturer's Legal Group Structure to another.\n",
      "2.9 In the calculation of Relevant Costs, the costs of any Power Unit Activities incurred by entities within the Power Unit Manufacturer's Legal Group Structure but outside its Reporting Group, other than Finance Costs and costs Directly Attributable to Marketing Activities undertaken by any such entity, must either be:\n",
      "(a) recharged at Fair Value to a Reporting Group Entity and thereby included within Total Costs of the Reporting Group; or\n",
      "(b) included in Relevant Costs at Fair Value by way of an Adjustment to Total Costs of the Reporting Group, as a Related Party Transaction pursuant to Article 4.1(a)(i).\n",
      "2.10 The Power Unit Manufacturer should seek clarification from the Cost Cap Administration if it is uncertain whether an entity should be included in its Reporting Group.\n",
      "\n"
     ]
    }
   ],
   "source": [
    "id_ = 6\n",
    "print(tree[0]['nodes'][id_]['title'])\n",
    "print(\"------\")\n",
    "print(tree[0]['nodes'][id_]['text'])"
   ]
  },
  {
   "cell_type": "markdown",
   "id": "ef6a5334",
   "metadata": {},
   "source": [
    "### Step-2: Reasoning-Based Retrieval with Tree Search"
   ]
  },
  {
   "cell_type": "code",
   "execution_count": 42,
   "id": "1ecaf82f",
   "metadata": {},
   "outputs": [],
   "source": [
    "import json \n",
    "query = f\"What are the conclusions in this document?\"\n",
    "\n",
    "tree_without_text = utils.remove_fields(tree.copy(), fields=['text'])\n",
    "\n",
    "search_prompt = f\"\"\"\n",
    "You are given a question and a tree structure of a document.\n",
    "Each node contains a node id, node title, and a corresponding summary.\n",
    "Your task is to find all nodes that are likely to contain the answer to the question.\n",
    "\n",
    "Question: {query}\n",
    "\n",
    "Document tree structure:\n",
    "{json.dumps(tree_without_text, indent=2)}\n",
    "\n",
    "Please reply in the following JSON format:\n",
    "{{\n",
    "    \"thinking\": \"<Your thinking process on which nodes are relevant to the question>\",\n",
    "    \"node_list\": [\"node_id_1\", \"node_id_2\", ..., \"node_id_n\"]\n",
    "}}\n",
    "Directly return the final JSON structure. Do not output anything else.\n",
    "\"\"\"\n",
    "\n",
    "tree_search_result = await call_llm(search_prompt)"
   ]
  },
  {
   "cell_type": "code",
   "execution_count": 44,
   "id": "1b9ef185",
   "metadata": {},
   "outputs": [
    {
     "name": "stdout",
     "output_type": "stream",
     "text": [
      "Reasoning Process: \n",
      "The question asks for the conclusions in the document. Conclusions are typically found in sections\n",
      "that summarize findings, decisions, or outcomes. In this regulatory document, the most likely\n",
      "sections to contain conclusions are those that detail decisions made by the Cost Cap Adjudication\n",
      "Panel, outcomes of investigations, or final determinations on compliance. The node titled 'Decision'\n",
      "(node_id: 0022) explicitly describes the process and content of decisions made after hearings,\n",
      "including whether a breach is found, what sanctions are imposed, and how compliance is confirmed.\n",
      "This node is the most likely to contain conclusions. Additionally, the 'Review of Reporting\n",
      "Documentation' (node_id: 0015) outlines possible outcomes of reviews, such as issuing a compliance\n",
      "certificate or taking further action, which may also reflect conclusions. The 'Accepted Breach\n",
      "Agreement' (node_id: 0019) and 'Appeals' (node_id: 0023) may contain final determinations or\n",
      "resolutions, but they are more procedural. The 'Objectives' (node_id: 0002) and 'Scope' (node_id:\n",
      "0001) provide context but not conclusions. Therefore, the most relevant nodes are 'Decision' and\n",
      "'Review of Reporting Documentation'.\n",
      "\n",
      "Retrieved Nodes:\n",
      "Node ID: 0022\t Page: 22\t Title: Decision\n",
      "Node ID: 0015\t Page: 14\t Title: Review of Reporting Documentation\n"
     ]
    }
   ],
   "source": [
    "node_map = utils.create_node_mapping(tree)\n",
    "tree_search_result_json = json.loads(tree_search_result)\n",
    "\n",
    "print(f\"Reasoning Process: \")\n",
    "utils.print_wrapped(tree_search_result_json['thinking'])\n",
    "\n",
    "print(f\"\\nRetrieved Nodes:\")\n",
    "for node_id in tree_search_result_json['node_list']:\n",
    "    node = node_map[node_id]\n",
    "    print(f\"Node ID: {node['node_id']}\\t Page: {node['page_index']}\\t Title: {node['title']}\")"
   ]
  },
  {
   "cell_type": "code",
   "execution_count": 45,
   "id": "8e98a18f",
   "metadata": {},
   "outputs": [
    {
     "data": {
      "text/plain": [
       "dict_keys(['thinking', 'node_list'])"
      ]
     },
     "execution_count": 45,
     "metadata": {},
     "output_type": "execute_result"
    }
   ],
   "source": [
    "tree_search_result_json.keys()"
   ]
  },
  {
   "cell_type": "code",
   "execution_count": 50,
   "id": "47f26db6",
   "metadata": {},
   "outputs": [
    {
     "name": "stdout",
     "output_type": "stream",
     "text": [
      "40\n",
      "dict_keys(['0000', '0001', '0002', '0003', '0004', '0005', '0006', '0007', '0008', '0009', '0010', '0011', '0012', '0013', '0014', '0015', '0016', '0017', '0018', '0019', '0020', '0021', '0022', '0023', '0024', '0025', '0026', '0027', '0028', '0029', '0030', '0031', '0032', '0033', '0034', '0035', '0036', '0037', '0038', '0039'])\n",
      "dict_keys(['title', 'node_id', 'page_index', 'prefix_summary', 'text', 'nodes'])\n"
     ]
    }
   ],
   "source": [
    "print(len(node_map))\n",
    "print(node_map.keys())\n",
    "print(node_map['0000'].keys())"
   ]
  },
  {
   "cell_type": "markdown",
   "id": "c614f31b",
   "metadata": {},
   "source": [
    "### Step-3: Answer Generation"
   ]
  },
  {
   "cell_type": "code",
   "execution_count": 52,
   "id": "f47159f0",
   "metadata": {},
   "outputs": [
    {
     "name": "stdout",
     "output_type": "stream",
     "text": [
      "Retrieved Context: \n",
      "## Decision\n",
      "\n",
      "7.26 Following a hearing, the judging panel shall make its decision, which shall:\n",
      "(a) be reached unanimously or else by a majority vote with each member of the judging panel having\n",
      "one vote and in the event of a deadlock the President of the Hearing having a further casting vote;\n",
      "(b) be in writing in the English language;\n",
      "(c) state the reasons for its decision;\n",
      "(d) be notified to each of the FIA and the Respondent;\n",
      "(e) in the event that a Power Unit Manufacturer is found to have been in breach of these Power Unit\n",
      "Financial Regulations, contain details of:\n",
      "\n",
      "(i) any sanction (which shall be determined in accordance with Article 9); and\n",
      "(ii) the costs to be borne by the Power Unit Manufacturer, which shall be calculated by reference to\n",
      "the reasonable costs incurred by the Cost Cap Administration and the Cost Cap Adjudication Panel in\n",
      "connection with any investigation and/or adjudication. In the event that the reasonable costs\n",
      "incurred by the Cost Cap Administration are disput...\n"
     ]
    }
   ],
   "source": [
    "node_list = tree_search_result_json['node_list']\n",
    "relevant_context = \"\\n\\n\".join(node_map[node_id]['text'] for node_id in node_list)\n",
    "\n",
    "print(f\"Retrieved Context: \")\n",
    "utils.print_wrapped(relevant_context[:1000]+\"...\")\n"
   ]
  },
  {
   "cell_type": "code",
   "execution_count": 53,
   "id": "e362b557",
   "metadata": {},
   "outputs": [
    {
     "name": "stdout",
     "output_type": "stream",
     "text": [
      "Generated Answer:\n",
      "\n",
      "The conclusions in this document are the decisions made by the judging panel following a hearing,\n",
      "which must be unanimous or majority-based, in writing, with stated reasons, and notified to the FIA\n",
      "and the Respondent. If a Power Unit Manufacturer is found in breach of the Financial Regulations,\n",
      "the conclusion includes details of any sanction and the costs they must bear. If compliant, the\n",
      "conclusion instructs the Cost Cap Administration to issue a compliance certificate. These decisions\n",
      "may be published (excluding confidential information) and can be reexamined within three months if\n",
      "important new evidence emerges.\n"
     ]
    }
   ],
   "source": [
    "answer_prompt = f\"\"\"\n",
    "Answer the question based on the context:\n",
    "\n",
    "Question: {query}\n",
    "Context: {relevant_context}\n",
    "\n",
    "Provide a clear, concise answer based only on the context provided.\n",
    "\"\"\"\n",
    "\n",
    "print('Generated Answer:\\n')\n",
    "answer = await call_llm(answer_prompt)\n",
    "utils.print_wrapped(answer)"
   ]
  },
  {
   "cell_type": "code",
   "execution_count": null,
   "id": "c793ea81",
   "metadata": {},
   "outputs": [],
   "source": []
  }
 ],
 "metadata": {
  "kernelspec": {
   "display_name": ".gawl (3.12.11)",
   "language": "python",
   "name": "python3"
  },
  "language_info": {
   "codemirror_mode": {
    "name": "ipython",
    "version": 3
   },
   "file_extension": ".py",
   "mimetype": "text/x-python",
   "name": "python",
   "nbconvert_exporter": "python",
   "pygments_lexer": "ipython3",
   "version": "3.12.11"
  }
 },
 "nbformat": 4,
 "nbformat_minor": 5
}
